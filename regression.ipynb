{
 "cells": [
  {
   "cell_type": "code",
   "execution_count": 1,
   "metadata": {},
   "outputs": [],
   "source": [
    "from sklearn.ensemble import RandomForestRegressor, AdaBoostRegressor\n",
    "from xgboost import XGBRegressor\n",
    "from preprocessors import Preprocessor\n",
    "from config.data_setting import *\n",
    "import pandas as pd\n",
    "import numpy as np\n",
    "import pickle\n",
    "import joblib"
   ]
  },
  {
   "cell_type": "markdown",
   "metadata": {},
   "source": [
    "## Presprocessing"
   ]
  },
  {
   "cell_type": "markdown",
   "metadata": {},
   "source": [
    "#### setting and save"
   ]
  },
  {
   "cell_type": "code",
   "execution_count": 2,
   "metadata": {},
   "outputs": [],
   "source": [
    "processor_path = \"class_preprocessor.pickle\"\n",
    "\n",
    "# symbolic_type = \"onehot\"\n",
    "# preprocessor = Preprocessor(symbolic_type=symbolic_type, num_min=-1, num_max=1, y_min=-1, y_max=1)\n",
    "\n",
    "# with open(processor_path, 'wb') as file:\n",
    "#     pickle.dump(preprocessor, file)"
   ]
  },
  {
   "cell_type": "markdown",
   "metadata": {},
   "source": [
    "#### load"
   ]
  },
  {
   "cell_type": "code",
   "execution_count": 3,
   "metadata": {},
   "outputs": [],
   "source": [
    "with open(processor_path, 'rb') as file:\n",
    "    preprocessor = pickle.load(file)"
   ]
  },
  {
   "cell_type": "markdown",
   "metadata": {},
   "source": [
    "#### run"
   ]
  },
  {
   "cell_type": "code",
   "execution_count": 4,
   "metadata": {},
   "outputs": [],
   "source": [
    "is_external = True\n",
    "X_train = preprocessor.preprocess(train_path, is_external=is_external)\n",
    "y_train = preprocessor.y_true\n",
    "y_train = np.ravel(y_train)"
   ]
  },
  {
   "cell_type": "markdown",
   "metadata": {},
   "source": [
    "## Model"
   ]
  },
  {
   "cell_type": "markdown",
   "metadata": {},
   "source": [
    "### Random Forest"
   ]
  },
  {
   "cell_type": "code",
   "execution_count": 5,
   "metadata": {},
   "outputs": [],
   "source": [
    "# model_save_path = \"save_models/rf.pkl\"\n",
    "# result_path = \"result/rf.csv\"\n",
    "\n",
    "# model = RandomForestRegressor(n_estimators=200, random_state=1008)\n",
    "# model.fit(X_train, y_train)\n",
    "# joblib.dump(model, model_save_path)\n",
    "\n",
    "# model = joblib.load(model_save_path)"
   ]
  },
  {
   "cell_type": "markdown",
   "metadata": {},
   "source": [
    "### AdaBoost"
   ]
  },
  {
   "cell_type": "code",
   "execution_count": null,
   "metadata": {},
   "outputs": [],
   "source": [
    "# model_save_path = \"save_models/ada.pkl\"\n",
    "# result_path = \"result/ada.csv\"\n",
    "\n",
    "# model = AdaBoostRegressor(random_state=0)\n",
    "# model.fit(X_train, y_train)\n",
    "# joblib.dump(model, model_save_path)\n",
    "# model = joblib.load(model_save_path)"
   ]
  },
  {
   "cell_type": "markdown",
   "metadata": {},
   "source": [
    "### XGBoost"
   ]
  },
  {
   "cell_type": "code",
   "execution_count": 6,
   "metadata": {},
   "outputs": [],
   "source": [
    "model_save_path = \"save_models/xgb.json\"\n",
    "result_path = \"result/xgb.csv\"\n",
    "\n",
    "model = XGBRegressor()\n",
    "model.fit(X_train, y_train)\n",
    "model.save_model(model_save_path)\n",
    "\n",
    "model.load_model(model_save_path)"
   ]
  },
  {
   "cell_type": "markdown",
   "metadata": {},
   "source": [
    "## Result"
   ]
  },
  {
   "cell_type": "code",
   "execution_count": 7,
   "metadata": {},
   "outputs": [],
   "source": [
    "X_test = preprocessor.preprocess(public_path, is_external=is_external)\n",
    "y_test = model.predict(X_test)\n",
    "y_test = preprocessor.denormalizeY(y_test)\n",
    "\n",
    "# save result\n",
    "df = pd.read_csv(sub_template_path)\n",
    "df = pd.DataFrame(df)\n",
    "df[price_col] = y_test\n",
    "df.to_csv(result_path, index=False)"
   ]
  }
 ],
 "metadata": {
  "kernelspec": {
   "display_name": "houseai",
   "language": "python",
   "name": "python3"
  },
  "language_info": {
   "codemirror_mode": {
    "name": "ipython",
    "version": 3
   },
   "file_extension": ".py",
   "mimetype": "text/x-python",
   "name": "python",
   "nbconvert_exporter": "python",
   "pygments_lexer": "ipython3",
   "version": "3.10.13"
  }
 },
 "nbformat": 4,
 "nbformat_minor": 2
}
