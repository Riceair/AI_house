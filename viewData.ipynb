{
 "cells": [
  {
   "cell_type": "code",
   "execution_count": 2,
   "metadata": {},
   "outputs": [],
   "source": [
    "from config import *\n",
    "from glob import glob\n",
    "import pandas as pd\n",
    "import os"
   ]
  },
  {
   "cell_type": "code",
   "execution_count": 6,
   "metadata": {},
   "outputs": [
    {
     "data": {
      "text/plain": [
       "['ATM資料.csv',\n",
       " '便利商店.csv',\n",
       " '公車站點資料.csv',\n",
       " '國中基本資料.csv',\n",
       " '國小基本資料.csv',\n",
       " '大學基本資料.csv',\n",
       " '捷運站點資料.csv',\n",
       " '火車站點資料.csv',\n",
       " '腳踏車站點資料.csv',\n",
       " '郵局據點資料.csv',\n",
       " '醫療機構基本資料.csv',\n",
       " '金融機構基本資料.csv',\n",
       " '高中基本資料.csv']"
      ]
     },
     "execution_count": 6,
     "metadata": {},
     "output_type": "execute_result"
    }
   ],
   "source": [
    "df = pd.read_csv(train_path)\n",
    "df = pd.DataFrame(df)"
   ]
  }
 ],
 "metadata": {
  "kernelspec": {
   "display_name": "houseai",
   "language": "python",
   "name": "python3"
  },
  "language_info": {
   "codemirror_mode": {
    "name": "ipython",
    "version": 3
   },
   "file_extension": ".py",
   "mimetype": "text/x-python",
   "name": "python",
   "nbconvert_exporter": "python",
   "pygments_lexer": "ipython3",
   "version": "3.10.13"
  },
  "orig_nbformat": 4
 },
 "nbformat": 4,
 "nbformat_minor": 2
}
