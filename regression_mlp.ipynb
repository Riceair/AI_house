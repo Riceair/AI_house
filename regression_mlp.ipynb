{
 "cells": [
  {
   "cell_type": "code",
   "execution_count": 1,
   "metadata": {},
   "outputs": [],
   "source": [
    "from preprocessors import Preprocessor\n",
    "from config.data_setting import *\n",
    "from datasets import BasicDataset\n",
    "from models.mlp import MultiMLP\n",
    "import pandas as pd\n",
    "import torch\n",
    "\n",
    "from train_tools.EarlyStopper import EarlyStopper\n",
    "from train_tools.BestSaver import BestSaver\n",
    "from train_tools.history import *\n",
    "from train_tools.engine import train_one_epoch, test_one_epoch"
   ]
  },
  {
   "cell_type": "code",
   "execution_count": 2,
   "metadata": {},
   "outputs": [],
   "source": [
    "# config\n",
    "num_epochs = 100\n",
    "batch_size = 32\n",
    "learning_rate = 1e-4\n",
    "\n",
    "hidden_dims = [128, 64]\n",
    "\n",
    "model_save_path = \"save_models/mlp_h\"+str(len(hidden_dims))+\".pt\"\n",
    "result_path = \"result/mlp_h\"+str(len(hidden_dims))+\".csv\"\n",
    "preprocessor = Preprocessor(symbolic_type=\"onehot\", num_min=0, num_max=1, y_min=-1, y_max=1)\n",
    "X_train = preprocessor.preprocess(train_path)\n",
    "y_train = preprocessor.y_true\n",
    "X_test = preprocessor.preprocess(public_path)\n",
    "\n",
    "# loss function\n",
    "def mape_loss(preds, targets):\n",
    "    return torch.abs((targets - preds)/targets).mean()"
   ]
  },
  {
   "cell_type": "markdown",
   "metadata": {},
   "source": [
    "### Dataset"
   ]
  },
  {
   "cell_type": "code",
   "execution_count": 3,
   "metadata": {},
   "outputs": [
    {
     "data": {
      "text/plain": [
       "(torch.Size([40]), torch.Size([1]))"
      ]
     },
     "execution_count": 3,
     "metadata": {},
     "output_type": "execute_result"
    }
   ],
   "source": [
    "dataset_train = BasicDataset(X_train, y_train) # dataset\n",
    "dataset_test = BasicDataset(X_test)\n",
    "data_loader_train = torch.utils.data.DataLoader(\n",
    "        dataset_train, batch_size=batch_size, shuffle=True)\n",
    "data_loader_test = torch.utils.data.DataLoader(\n",
    "        dataset_test, batch_size=batch_size, shuffle=False)\n",
    "x, y = dataset_train[0]\n",
    "input_dim = x.shape[0]\n",
    "output_dim = y.shape[0]\n",
    "x.shape, y.shape"
   ]
  },
  {
   "cell_type": "markdown",
   "metadata": {},
   "source": [
    "### Model"
   ]
  },
  {
   "cell_type": "code",
   "execution_count": 4,
   "metadata": {},
   "outputs": [],
   "source": [
    "device = torch.device('cuda')\n",
    "model = MultiMLP(input_dim=input_dim, hidden_dims=hidden_dims, output_dim=output_dim, out_selection='tanh')\n",
    "model.to(device)\n",
    "optimizer = torch.optim.Adam(model.parameters(), lr=learning_rate)\n",
    "early_stopper = EarlyStopper(patience=5, best_criterion='min')\n",
    "best_saver = BestSaver(model, model_save_path, best_criterion='min')"
   ]
  },
  {
   "cell_type": "markdown",
   "metadata": {},
   "source": [
    "### Training"
   ]
  },
  {
   "cell_type": "code",
   "execution_count": 5,
   "metadata": {},
   "outputs": [
    {
     "name": "stdout",
     "output_type": "stream",
     "text": [
      "Epoch [1] loss: 0.37570250396738236\n",
      "Epoch [2] loss: 0.2561313694788386\n",
      "Epoch [3] loss: 0.23395869150028928\n",
      "Epoch [4] loss: 0.22240047375469105\n",
      "Epoch [5] loss: 0.20872035272338468\n",
      "Epoch [6] loss: 0.2055625532369089\n",
      "Epoch [7] loss: 0.20156547014156115\n",
      "Epoch [8] loss: 0.20116653078762087\n",
      "Epoch [9] loss: 0.2002088910414149\n",
      "Epoch [10] loss: 0.19856815380246742\n",
      "Epoch [11] loss: 0.1974401911923095\n",
      "Epoch [12] loss: 0.19553256002457245\n",
      "Epoch [13] loss: 0.19600675823976813\n",
      "Epoch [14] loss: 0.19373093247818557\n",
      "Epoch [15] loss: 0.19200125616043806\n",
      "Epoch [16] loss: 0.19193394907304775\n",
      "Epoch [17] loss: 0.19034592938892866\n",
      "Epoch [18] loss: 0.19011432341421428\n",
      "Epoch [19] loss: 0.18827208906979018\n",
      "Epoch [20] loss: 0.18781339697053898\n",
      "Epoch [21] loss: 0.18663636254875557\n",
      "Epoch [22] loss: 0.1860513862465387\n",
      "Epoch [23] loss: 0.1850388676393777\n",
      "Epoch [24] loss: 0.1850675689258977\n",
      "Epoch [25] loss: 0.18292320222067443\n",
      "Epoch [26] loss: 0.1827660612559513\n",
      "Epoch [27] loss: 0.18209773148207561\n",
      "Epoch [28] loss: 0.18115033241717712\n",
      "Epoch [29] loss: 0.1796636936639476\n",
      "Epoch [30] loss: 0.17898473807651064\n",
      "Epoch [31] loss: 0.17917650182852926\n",
      "Epoch [32] loss: 0.17656356786661173\n",
      "Epoch [33] loss: 0.17626089815293317\n",
      "Epoch [34] loss: 0.17470440525642555\n",
      "Epoch [35] loss: 0.17368263188425614\n",
      "Epoch [36] loss: 0.17190129277498825\n",
      "Epoch [37] loss: 0.17149186020959978\n",
      "Epoch [38] loss: 0.170420507212048\n",
      "Epoch [39] loss: 0.1679306574692221\n",
      "Epoch [40] loss: 0.1677612331898316\n",
      "Epoch [41] loss: 0.1668262509730361\n",
      "Epoch [42] loss: 0.16708173272807314\n",
      "Epoch [43] loss: 0.1647047201252502\n",
      "Epoch [44] loss: 0.16438522114944848\n",
      "Epoch [45] loss: 0.16348549145597802\n",
      "Epoch [46] loss: 0.16207522524358786\n",
      "Epoch [47] loss: 0.16192091460866126\n",
      "Epoch [48] loss: 0.1604613711166641\n",
      "Epoch [49] loss: 0.1603663272386336\n",
      "Epoch [50] loss: 0.15975122936272426\n",
      "Epoch [51] loss: 0.15714055018337525\n",
      "Epoch [52] loss: 0.15853852400070298\n",
      "Epoch [53] loss: 0.15501812084213548\n",
      "Epoch [54] loss: 0.15555693255737424\n",
      "Epoch [55] loss: 0.15448020837958093\n",
      "Epoch [56] loss: 0.15352614804009057\n",
      "Epoch [57] loss: 0.152479684729453\n",
      "Epoch [58] loss: 0.15360855262564577\n",
      "Epoch [59] loss: 0.15197288783510093\n",
      "Epoch [60] loss: 0.152449793546744\n",
      "Epoch [61] loss: 0.15073808218838405\n",
      "Epoch [62] loss: 0.155980896913325\n",
      "Epoch [63] loss: 0.1505093856856389\n",
      "Epoch [64] loss: 0.14924917545210084\n",
      "Epoch [65] loss: 0.14970831321957317\n",
      "Epoch [66] loss: 0.14954574304916288\n",
      "Epoch [67] loss: 0.14748207627512191\n",
      "Epoch [68] loss: 0.14775506946582184\n",
      "Epoch [69] loss: 0.14763657678849995\n",
      "Epoch [70] loss: 0.1466234067718134\n",
      "Epoch [71] loss: 0.14804303083244874\n",
      "Epoch [72] loss: 0.1462484536813977\n",
      "Epoch [73] loss: 0.14566210013530825\n",
      "Epoch [74] loss: 0.14589653893009477\n",
      "Epoch [75] loss: 0.14559048354504225\n",
      "Epoch [76] loss: 0.14350689081070217\n",
      "Epoch [77] loss: 0.14385872508358696\n",
      "Epoch [78] loss: 0.1437479641855411\n",
      "Epoch [79] loss: 0.14298285110651152\n",
      "Epoch [80] loss: 0.1430056327852704\n",
      "Epoch [81] loss: 0.14240177727871292\n",
      "Epoch [82] loss: 0.1436604650630413\n",
      "Epoch [83] loss: 0.1421677937488193\n",
      "Epoch [84] loss: 0.14198261845613952\n",
      "Epoch [85] loss: 0.1404178206221727\n",
      "Epoch [86] loss: 0.13981350648986257\n",
      "Epoch [87] loss: 0.1403472111965327\n",
      "Epoch [88] loss: 0.13888555336946054\n",
      "Epoch [89] loss: 0.14056896644077546\n",
      "Epoch [90] loss: 0.13776591645918138\n",
      "Epoch [91] loss: 0.13836982919146185\n",
      "Epoch [92] loss: 0.13825717238385393\n",
      "Epoch [93] loss: 0.1389642502889847\n",
      "Epoch [94] loss: 0.13768738394846086\n",
      "Epoch [95] loss: 0.13781895890386534\n",
      "Epoch [96] loss: 0.13669055451274567\n",
      "Epoch [97] loss: 0.13799958765182807\n",
      "Epoch [98] loss: 0.13719830025270904\n",
      "Epoch [99] loss: 0.13631458843693786\n",
      "Epoch [100] loss: 0.135206357009061\n"
     ]
    },
    {
     "data": {
      "image/png": "[encoded data removed]",
      "text/plain": [
       "<Figure size 640x480 with 1 Axes>"
      ]
     },
     "metadata": {},
     "output_type": "display_data"
    }
   ],
   "source": [
    "train_history = []\n",
    "for epoch in range(num_epochs):\n",
    "    train_loss = train_one_epoch(model=model, data_loader=data_loader_train, optimizer=optimizer, \n",
    "                                 criterion=mape_loss, device=device)\n",
    "    print(f\"Epoch [{epoch+1}] loss: {train_loss}\")\n",
    "\n",
    "    if early_stopper.stopJudgment(train_loss):\n",
    "        print(f\"End in epoch {epoch+1}\")\n",
    "        break\n",
    "    best_saver.saveJudgment(train_loss)\n",
    "    train_history.append(train_loss)\n",
    "show_train_history(train_history)"
   ]
  },
  {
   "cell_type": "code",
   "execution_count": 6,
   "metadata": {},
   "outputs": [],
   "source": [
    "prediction = test_one_epoch(model, data_loader_test, device)\n",
    "prediction = preprocessor.denormalizeY(prediction)\n",
    "\n",
    "df = pd.read_csv(sub_template_path)\n",
    "df = pd.DataFrame(df)\n",
    "df[price_col] = prediction\n",
    "df.to_csv(result_path, index=False)"
   ]
  }
 ],
 "metadata": {
  "kernelspec": {
   "display_name": "houseai",
   "language": "python",
   "name": "python3"
  },
  "language_info": {
   "codemirror_mode": {
    "name": "ipython",
    "version": 3
   },
   "file_extension": ".py",
   "mimetype": "text/x-python",
   "name": "python",
   "nbconvert_exporter": "python",
   "pygments_lexer": "ipython3",
   "version": "3.10.13"
  }
 },
 "nbformat": 4,
 "nbformat_minor": 2
}
